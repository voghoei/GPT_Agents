{
 "cells": [
  {
   "cell_type": "code",
   "execution_count": 1,
   "id": "2575eca2",
   "metadata": {},
   "outputs": [
    {
     "name": "stdout",
     "output_type": "stream",
     "text": [
      "Requirement already satisfied: beautifulsoup4 in c:\\users\\voghoei\\anaconda3\\lib\\site-packages (4.11.1)\n",
      "Requirement already satisfied: soupsieve>1.2 in c:\\users\\voghoei\\anaconda3\\lib\\site-packages (from beautifulsoup4) (2.3.1)\n",
      "Note: you may need to restart the kernel to use updated packages.\n"
     ]
    },
    {
     "name": "stderr",
     "output_type": "stream",
     "text": [
      "WARNING: Ignoring invalid distribution -tatsmodels (c:\\users\\voghoei\\anaconda3\\lib\\site-packages)\n",
      "WARNING: Ignoring invalid distribution -tatsmodels (c:\\users\\voghoei\\anaconda3\\lib\\site-packages)\n",
      "WARNING: Ignoring invalid distribution -tatsmodels (c:\\users\\voghoei\\anaconda3\\lib\\site-packages)\n",
      "WARNING: Ignoring invalid distribution -tatsmodels (c:\\users\\voghoei\\anaconda3\\lib\\site-packages)\n",
      "WARNING: Ignoring invalid distribution -tatsmodels (c:\\users\\voghoei\\anaconda3\\lib\\site-packages)\n",
      "WARNING: Ignoring invalid distribution -tatsmodels (c:\\users\\voghoei\\anaconda3\\lib\\site-packages)\n",
      "\n",
      "[notice] A new release of pip available: 22.2.2 -> 23.2.1\n",
      "[notice] To update, run: python.exe -m pip install --upgrade pip\n"
     ]
    }
   ],
   "source": [
    "pip install beautifulsoup4\n",
    "pip install requests\n",
    "pip install openai\n",
    "pip install beautifulsoup4 requests openai"
   ]
  },
  {
   "cell_type": "code",
   "execution_count": null,
   "id": "8a28ea80",
   "metadata": {},
   "outputs": [],
   "source": []
  },
  {
   "cell_type": "markdown",
   "id": "11ebbeb0",
   "metadata": {},
   "source": [
    "### Web Scraping with BeautifulSoup"
   ]
  },
  {
   "cell_type": "code",
   "execution_count": 7,
   "id": "5d694327",
   "metadata": {},
   "outputs": [],
   "source": [
    "from bs4 import BeautifulSoup\n",
    "import requests\n",
    "\n",
    "def scrape_jobs():\n",
    "    url = \"https://www.example.com/jobs\"\n",
    "    response = requests.get(url)\n",
    "    soup = BeautifulSoup(response.text, 'html.parser')\n",
    "    # Extract job listings"
   ]
  },
  {
   "cell_type": "code",
   "execution_count": 8,
   "id": "f3e0e2dc",
   "metadata": {},
   "outputs": [
    {
     "name": "stdout",
     "output_type": "stream",
     "text": [
      "CSV file created successfully!\n"
     ]
    }
   ],
   "source": [
    "import csv\n",
    "\n",
    "# Data for the CSV\n",
    "data = [\n",
    "    [\"Website Name\", \"URL\", \"Specialization\"],\n",
    "    [\"LinkedIn\", \"https://www.linkedin.com/jobs/\", \"General\"],\n",
    "    [\"Indeed\", \"https://www.indeed.com/\", \"General\"],\n",
    "    [\"Glassdoor\", \"https://www.glassdoor.com/Job/index.htm\", \"General\"],\n",
    "    [\"Monster\", \"https://www.monster.com/\", \"General\"],\n",
    "    [\"ZipRecruiter\", \"https://www.ziprecruiter.com/\", \"General\"],\n",
    "    [\"CareerBuilder\", \"https://www.careerbuilder.com/\", \"General\"],\n",
    "    [\"Dice\", \"https://www.dice.com/\", \"Tech and Data Science\"],\n",
    "    [\"Kaggle\", \"https://www.kaggle.com/jobs\", \"Tech and Data Science\"],\n",
    "    [\"Built In\", \"https://builtin.com/jobs\", \"Tech and Data Science\"],\n",
    "    [\"AngelList\", \"https://angel.co/jobs\", \"Startups\"],\n",
    "    [\"DataJobs\", \"https://datajobs.com/\", \"Data-related\"],\n",
    "    [\"AI-Jobs\", \"https://ai-jobs.net/\", \"AI and Data Science\"],\n",
    "    [\"HigherEdJobs\", \"https://www.higheredjobs.com/\", \"Academic and Research\"],\n",
    "    [\"ChronicleVitae\", \"https://chroniclevitae.com/job_search/new\", \"Academic and Research\"]\n",
    "]\n",
    "\n",
    "# Writing data to CSV\n",
    "with open('job_search_sites.csv', 'w', newline='') as file:\n",
    "    writer = csv.writer(file)\n",
    "    writer.writerows(data)\n",
    "\n",
    "print(\"CSV file created successfully!\")"
   ]
  },
  {
   "cell_type": "code",
   "execution_count": null,
   "id": "27f05701",
   "metadata": {},
   "outputs": [],
   "source": []
  }
 ],
 "metadata": {
  "kernelspec": {
   "display_name": "Python 3 (ipykernel)",
   "language": "python",
   "name": "python3"
  },
  "language_info": {
   "codemirror_mode": {
    "name": "ipython",
    "version": 3
   },
   "file_extension": ".py",
   "mimetype": "text/x-python",
   "name": "python",
   "nbconvert_exporter": "python",
   "pygments_lexer": "ipython3",
   "version": "3.9.12"
  }
 },
 "nbformat": 4,
 "nbformat_minor": 5
}
