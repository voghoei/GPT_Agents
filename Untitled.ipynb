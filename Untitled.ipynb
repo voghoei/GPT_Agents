{
 "cells": [
  {
   "cell_type": "code",
   "execution_count": null,
   "id": "35fb2f38",
   "metadata": {},
   "outputs": [],
   "source": [
    "class MyAgent(Agent, BaseAgent):\n",
    "    def is_verbase_logging_enabled(self) -> bool:\n",
    "        def get_tools(self) -> List[Tool]:\n",
    "            return[\n",
    "                \n",
    "            ]\n",
    "        def get_personality(self) ->str:\n",
    "            \n",
    "            \n",
    "            \n",
    "            return\n",
    "        "
   ]
  },
  {
   "cell_type": "code",
   "execution_count": 7,
   "id": "5bf3ea7f",
   "metadata": {},
   "outputs": [
    {
     "name": "stdout",
     "output_type": "stream",
     "text": [
      "Requirement already satisfied: steamship-langchain in c:\\users\\voghoei\\anaconda3\\lib\\site-packages (0.0.26)\n",
      "Requirement already satisfied: steamship~=2.17.4 in c:\\users\\voghoei\\anaconda3\\lib\\site-packages (from steamship-langchain) (2.17.28)\n",
      "Requirement already satisfied: langchain==0.0.200 in c:\\users\\voghoei\\anaconda3\\lib\\site-packages (from steamship-langchain) (0.0.200)\n",
      "Requirement already satisfied: PyYAML>=5.4.1 in c:\\users\\voghoei\\anaconda3\\lib\\site-packages (from langchain==0.0.200->steamship-langchain) (6.0)\n",
      "Requirement already satisfied: SQLAlchemy<3,>=1.4 in c:\\users\\voghoei\\anaconda3\\lib\\site-packages (from langchain==0.0.200->steamship-langchain) (1.4.32)\n",
      "Requirement already satisfied: aiohttp<4.0.0,>=3.8.3 in c:\\users\\voghoei\\anaconda3\\lib\\site-packages (from langchain==0.0.200->steamship-langchain) (3.8.5)\n",
      "Requirement already satisfied: async-timeout<5.0.0,>=4.0.0 in c:\\users\\voghoei\\anaconda3\\lib\\site-packages (from langchain==0.0.200->steamship-langchain) (4.0.1)\n",
      "Requirement already satisfied: dataclasses-json<0.6.0,>=0.5.7 in c:\\users\\voghoei\\anaconda3\\lib\\site-packages (from langchain==0.0.200->steamship-langchain) (0.5.14)\n",
      "Requirement already satisfied: langchainplus-sdk>=0.0.9 in c:\\users\\voghoei\\anaconda3\\lib\\site-packages (from langchain==0.0.200->steamship-langchain) (0.0.20)\n",
      "Requirement already satisfied: numexpr<3.0.0,>=2.8.4 in c:\\users\\voghoei\\anaconda3\\lib\\site-packages (from langchain==0.0.200->steamship-langchain) (2.8.6)\n",
      "Requirement already satisfied: numpy<2,>=1 in c:\\users\\voghoei\\anaconda3\\lib\\site-packages (from langchain==0.0.200->steamship-langchain) (1.21.5)\n",
      "Requirement already satisfied: openapi-schema-pydantic<2.0,>=1.2 in c:\\users\\voghoei\\anaconda3\\lib\\site-packages (from langchain==0.0.200->steamship-langchain) (1.2.4)\n",
      "Requirement already satisfied: pydantic<2,>=1 in c:\\users\\voghoei\\anaconda3\\lib\\site-packages (from langchain==0.0.200->steamship-langchain) (1.10.12)\n",
      "Requirement already satisfied: requests<3,>=2 in c:\\users\\voghoei\\anaconda3\\lib\\site-packages (from langchain==0.0.200->steamship-langchain) (2.28.2)\n",
      "Requirement already satisfied: tenacity<9.0.0,>=8.1.0 in c:\\users\\voghoei\\anaconda3\\lib\\site-packages (from langchain==0.0.200->steamship-langchain) (8.2.3)\n",
      "Requirement already satisfied: inflection~=0.5.1 in c:\\users\\voghoei\\anaconda3\\lib\\site-packages (from steamship~=2.17.4->steamship-langchain) (0.5.1)\n",
      "Requirement already satisfied: fluent-logger~=0.10.0 in c:\\users\\voghoei\\anaconda3\\lib\\site-packages (from steamship~=2.17.4->steamship-langchain) (0.10.0)\n",
      "Requirement already satisfied: toml~=0.10.2 in c:\\users\\voghoei\\anaconda3\\lib\\site-packages (from steamship~=2.17.4->steamship-langchain) (0.10.2)\n",
      "Requirement already satisfied: click~=8.1.3 in c:\\users\\voghoei\\anaconda3\\lib\\site-packages (from steamship~=2.17.4->steamship-langchain) (8.1.7)\n",
      "Requirement already satisfied: semver~=3.0.0 in c:\\users\\voghoei\\anaconda3\\lib\\site-packages (from steamship~=2.17.4->steamship-langchain) (3.0.1)\n",
      "Requirement already satisfied: tiktoken~=0.3.3 in c:\\users\\voghoei\\anaconda3\\lib\\site-packages (from steamship~=2.17.4->steamship-langchain) (0.3.3)\n",
      "Requirement already satisfied: attrs>=17.3.0 in c:\\users\\voghoei\\anaconda3\\lib\\site-packages (from aiohttp<4.0.0,>=3.8.3->langchain==0.0.200->steamship-langchain) (21.4.0)\n",
      "Requirement already satisfied: charset-normalizer<4.0,>=2.0 in c:\\users\\voghoei\\anaconda3\\lib\\site-packages (from aiohttp<4.0.0,>=3.8.3->langchain==0.0.200->steamship-langchain) (2.0.4)\n",
      "Requirement already satisfied: multidict<7.0,>=4.5 in c:\\users\\voghoei\\anaconda3\\lib\\site-packages (from aiohttp<4.0.0,>=3.8.3->langchain==0.0.200->steamship-langchain) (5.1.0)\n",
      "Requirement already satisfied: yarl<2.0,>=1.0 in c:\\users\\voghoei\\anaconda3\\lib\\site-packages (from aiohttp<4.0.0,>=3.8.3->langchain==0.0.200->steamship-langchain) (1.6.3)\n",
      "Requirement already satisfied: frozenlist>=1.1.1 in c:\\users\\voghoei\\anaconda3\\lib\\site-packages (from aiohttp<4.0.0,>=3.8.3->langchain==0.0.200->steamship-langchain) (1.2.0)\n",
      "Requirement already satisfied: aiosignal>=1.1.2 in c:\\users\\voghoei\\anaconda3\\lib\\site-packages (from aiohttp<4.0.0,>=3.8.3->langchain==0.0.200->steamship-langchain) (1.2.0)\n",
      "Requirement already satisfied: typing-extensions>=3.6.5 in c:\\users\\voghoei\\anaconda3\\lib\\site-packages (from async-timeout<5.0.0,>=4.0.0->langchain==0.0.200->steamship-langchain) (4.8.0)\n",
      "Requirement already satisfied: colorama in c:\\users\\voghoei\\anaconda3\\lib\\site-packages (from click~=8.1.3->steamship~=2.17.4->steamship-langchain) (0.4.4)\n",
      "Requirement already satisfied: marshmallow<4.0.0,>=3.18.0 in c:\\users\\voghoei\\anaconda3\\lib\\site-packages (from dataclasses-json<0.6.0,>=0.5.7->langchain==0.0.200->steamship-langchain) (3.20.1)\n",
      "Requirement already satisfied: typing-inspect<1,>=0.4.0 in c:\\users\\voghoei\\anaconda3\\lib\\site-packages (from dataclasses-json<0.6.0,>=0.5.7->langchain==0.0.200->steamship-langchain) (0.9.0)\n",
      "Requirement already satisfied: msgpack>1.0 in c:\\users\\voghoei\\anaconda3\\lib\\site-packages (from fluent-logger~=0.10.0->steamship~=2.17.4->steamship-langchain) (1.0.2)\n",
      "Requirement already satisfied: idna<4,>=2.5 in c:\\users\\voghoei\\anaconda3\\lib\\site-packages (from requests<3,>=2->langchain==0.0.200->steamship-langchain) (3.3)\n",
      "Requirement already satisfied: urllib3<1.27,>=1.21.1 in c:\\users\\voghoei\\anaconda3\\lib\\site-packages (from requests<3,>=2->langchain==0.0.200->steamship-langchain) (1.26.9)\n",
      "Requirement already satisfied: certifi>=2017.4.17 in c:\\users\\voghoei\\anaconda3\\lib\\site-packages (from requests<3,>=2->langchain==0.0.200->steamship-langchain) (2021.10.8)\n",
      "Requirement already satisfied: greenlet!=0.4.17 in c:\\users\\voghoei\\anaconda3\\lib\\site-packages (from SQLAlchemy<3,>=1.4->langchain==0.0.200->steamship-langchain) (1.1.1)\n",
      "Requirement already satisfied: regex>=2022.1.18 in c:\\users\\voghoei\\anaconda3\\lib\\site-packages (from tiktoken~=0.3.3->steamship~=2.17.4->steamship-langchain) (2022.3.15)\n",
      "Requirement already satisfied: packaging>=17.0 in c:\\users\\voghoei\\anaconda3\\lib\\site-packages (from marshmallow<4.0.0,>=3.18.0->dataclasses-json<0.6.0,>=0.5.7->langchain==0.0.200->steamship-langchain) (21.3)\n",
      "Requirement already satisfied: mypy-extensions>=0.3.0 in c:\\users\\voghoei\\anaconda3\\lib\\site-packages (from typing-inspect<1,>=0.4.0->dataclasses-json<0.6.0,>=0.5.7->langchain==0.0.200->steamship-langchain) (0.4.3)\n",
      "Requirement already satisfied: pyparsing!=3.0.5,>=2.0.2 in c:\\users\\voghoei\\anaconda3\\lib\\site-packages (from packaging>=17.0->marshmallow<4.0.0,>=3.18.0->dataclasses-json<0.6.0,>=0.5.7->langchain==0.0.200->steamship-langchain) (3.0.4)\n",
      "Note: you may need to restart the kernel to use updated packages.\n"
     ]
    },
    {
     "name": "stderr",
     "output_type": "stream",
     "text": [
      "WARNING: Ignoring invalid distribution -tatsmodels (c:\\users\\voghoei\\anaconda3\\lib\\site-packages)\n",
      "WARNING: Ignoring invalid distribution -tatsmodels (c:\\users\\voghoei\\anaconda3\\lib\\site-packages)\n"
     ]
    }
   ],
   "source": [
    "pip install steamship-langchain\n",
    "pip install --upgrade langchain"
   ]
  },
  {
   "cell_type": "code",
   "execution_count": 2,
   "id": "148664b0",
   "metadata": {},
   "outputs": [],
   "source": [
    "import os\n",
    "os.environ[\"OPEN_AI_KEY\"] = \"REDACTED\"\n",
    "from langchain.llms import OpenAI"
   ]
  },
  {
   "cell_type": "code",
   "execution_count": 6,
   "id": "3a6ffe0f",
   "metadata": {},
   "outputs": [
    {
     "ename": "ModuleNotFoundError",
     "evalue": "No module named 'steamship_langchain.llm'",
     "output_type": "error",
     "traceback": [
      "\u001b[1;31m---------------------------------------------------------------------------\u001b[0m",
      "\u001b[1;31mModuleNotFoundError\u001b[0m                       Traceback (most recent call last)",
      "Input \u001b[1;32mIn [6]\u001b[0m, in \u001b[0;36m<cell line: 1>\u001b[1;34m()\u001b[0m\n\u001b[1;32m----> 1\u001b[0m \u001b[38;5;28;01mfrom\u001b[39;00m \u001b[38;5;21;01msteamship_langchain\u001b[39;00m\u001b[38;5;21;01m.\u001b[39;00m\u001b[38;5;21;01mllm\u001b[39;00m\u001b[38;5;21;01m.\u001b[39;00m\u001b[38;5;21;01mopenAI\u001b[39;00m \u001b[38;5;28;01mimport\u001b[39;00m OpenAI\n",
      "\u001b[1;31mModuleNotFoundError\u001b[0m: No module named 'steamship_langchain.llm'"
     ]
    }
   ],
   "source": [
    "from steamship_langchain.llm.openAI import OpenAI"
   ]
  },
  {
   "cell_type": "code",
   "execution_count": 7,
   "id": "c0d2efab",
   "metadata": {},
   "outputs": [
    {
     "name": "stdout",
     "output_type": "stream",
     "text": [
      "['C:\\\\Users\\\\voghoei\\\\Documents\\\\GitHub\\\\GPT_Agents', 'C:\\\\Users\\\\voghoei\\\\Anaconda3\\\\python39.zip', 'C:\\\\Users\\\\voghoei\\\\Anaconda3\\\\DLLs', 'C:\\\\Users\\\\voghoei\\\\Anaconda3\\\\lib', 'C:\\\\Users\\\\voghoei\\\\Anaconda3', '', 'C:\\\\Users\\\\voghoei\\\\Anaconda3\\\\lib\\\\site-packages', 'C:\\\\Users\\\\voghoei\\\\Anaconda3\\\\lib\\\\site-packages\\\\win32', 'C:\\\\Users\\\\voghoei\\\\Anaconda3\\\\lib\\\\site-packages\\\\win32\\\\lib', 'C:\\\\Users\\\\voghoei\\\\Anaconda3\\\\lib\\\\site-packages\\\\Pythonwin']\n"
     ]
    }
   ],
   "source": [
    "import sys\n",
    "print(sys.path)"
   ]
  },
  {
   "cell_type": "code",
   "execution_count": 10,
   "id": "e83c4232",
   "metadata": {},
   "outputs": [],
   "source": [
    "sys.path.append('c:\\\\users\\\\voghoei\\\\anaconda3\\\\lib\\\\site-packages')"
   ]
  },
  {
   "cell_type": "code",
   "execution_count": 11,
   "id": "7a60ab55",
   "metadata": {},
   "outputs": [
    {
     "ename": "ModuleNotFoundError",
     "evalue": "No module named 'langchain.loaders'",
     "output_type": "error",
     "traceback": [
      "\u001b[1;31m---------------------------------------------------------------------------\u001b[0m",
      "\u001b[1;31mModuleNotFoundError\u001b[0m                       Traceback (most recent call last)",
      "Input \u001b[1;32mIn [11]\u001b[0m, in \u001b[0;36m<cell line: 1>\u001b[1;34m()\u001b[0m\n\u001b[1;32m----> 1\u001b[0m \u001b[38;5;28;01mfrom\u001b[39;00m \u001b[38;5;21;01mlangchain\u001b[39;00m\u001b[38;5;21;01m.\u001b[39;00m\u001b[38;5;21;01mloaders\u001b[39;00m \u001b[38;5;28;01mimport\u001b[39;00m DirectoryLoader\n",
      "\u001b[1;31mModuleNotFoundError\u001b[0m: No module named 'langchain.loaders'"
     ]
    }
   ],
   "source": [
    "from langchain.loaders import DirectoryLoader"
   ]
  },
  {
   "cell_type": "code",
   "execution_count": null,
   "id": "a631a9ab",
   "metadata": {},
   "outputs": [],
   "source": []
  }
 ],
 "metadata": {
  "kernelspec": {
   "display_name": "Python 3 (ipykernel)",
   "language": "python",
   "name": "python3"
  },
  "language_info": {
   "codemirror_mode": {
    "name": "ipython",
    "version": 3
   },
   "file_extension": ".py",
   "mimetype": "text/x-python",
   "name": "python",
   "nbconvert_exporter": "python",
   "pygments_lexer": "ipython3",
   "version": "3.8.12"
  }
 },
 "nbformat": 4,
 "nbformat_minor": 5
}
